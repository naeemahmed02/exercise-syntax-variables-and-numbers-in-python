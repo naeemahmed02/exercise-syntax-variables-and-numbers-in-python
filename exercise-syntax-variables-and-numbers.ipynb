{
 "cells": [
  {
   "cell_type": "markdown",
   "id": "304bd80f",
   "metadata": {
    "papermill": {
     "duration": 0.008146,
     "end_time": "2022-08-11T16:35:52.296842",
     "exception": false,
     "start_time": "2022-08-11T16:35:52.288696",
     "status": "completed"
    },
    "tags": []
   },
   "source": [
    "**This notebook is an exercise in the [Python](https://www.kaggle.com/learn/python) course.  You can reference the tutorial at [this link](https://www.kaggle.com/colinmorris/hello-python).**\n",
    "\n",
    "---\n"
   ]
  },
  {
   "cell_type": "markdown",
   "id": "b165eff4",
   "metadata": {
    "papermill": {
     "duration": 0.007301,
     "end_time": "2022-08-11T16:35:52.311570",
     "exception": false,
     "start_time": "2022-08-11T16:35:52.304269",
     "status": "completed"
    },
    "tags": []
   },
   "source": [
    "Welcome to your first set of Python coding problems.  If this is your first time using Kaggle Notebooks, welcome! \n",
    "\n",
    "Notebooks are composed of blocks (called \"cells\") of text and code. Each of these is editable, though you'll mainly be editing the code cells to answer some questions.\n",
    "\n",
    "To get started, try running the code cell below (by pressing the ► button, or clicking on the cell and pressing ctrl+enter on your keyboard)."
   ]
  },
  {
   "cell_type": "code",
   "execution_count": 1,
   "id": "8050facf",
   "metadata": {
    "execution": {
     "iopub.execute_input": "2022-08-11T16:35:52.329063Z",
     "iopub.status.busy": "2022-08-11T16:35:52.328218Z",
     "iopub.status.idle": "2022-08-11T16:35:52.341862Z",
     "shell.execute_reply": "2022-08-11T16:35:52.340596Z"
    },
    "papermill": {
     "duration": 0.025311,
     "end_time": "2022-08-11T16:35:52.344411",
     "exception": false,
     "start_time": "2022-08-11T16:35:52.319100",
     "status": "completed"
    },
    "tags": []
   },
   "outputs": [
    {
     "name": "stdout",
     "output_type": "stream",
     "text": [
      "You've successfully run some Python code\n",
      "Congratulations!\n"
     ]
    }
   ],
   "source": [
    "print(\"You've successfully run some Python code\")\n",
    "print(\"Congratulations!\")"
   ]
  },
  {
   "cell_type": "markdown",
   "id": "15b399b8",
   "metadata": {
    "papermill": {
     "duration": 0.006789,
     "end_time": "2022-08-11T16:35:52.358878",
     "exception": false,
     "start_time": "2022-08-11T16:35:52.352089",
     "status": "completed"
    },
    "tags": []
   },
   "source": [
    "Try adding another line of code in the cell above and re-running it. \n",
    "\n",
    "Now let's get a little fancier:  Add a new code cell by clicking on an existing code cell, hitting the escape key, and then hitting the `a` or `b` key.  The `a` key will add a cell above the current cell, and `b` adds a cell below.\n",
    "\n",
    "Great! Now you know how to use Notebooks.\n",
    "\n",
    "Each hands-on exercise starts by setting up our feedback and code checking mechanism. Run the code cell below to do that. Then you'll be ready to move on to question 0."
   ]
  },
  {
   "cell_type": "code",
   "execution_count": 2,
   "id": "a6060d07",
   "metadata": {
    "_kg_hide-input": true,
    "_kg_hide-output": true,
    "execution": {
     "iopub.execute_input": "2022-08-11T16:35:52.375277Z",
     "iopub.status.busy": "2022-08-11T16:35:52.374849Z",
     "iopub.status.idle": "2022-08-11T16:35:52.431372Z",
     "shell.execute_reply": "2022-08-11T16:35:52.429592Z"
    },
    "papermill": {
     "duration": 0.068571,
     "end_time": "2022-08-11T16:35:52.434454",
     "exception": false,
     "start_time": "2022-08-11T16:35:52.365883",
     "status": "completed"
    },
    "tags": []
   },
   "outputs": [
    {
     "name": "stdout",
     "output_type": "stream",
     "text": [
      "Setup complete! You're ready to start question 0.\n"
     ]
    }
   ],
   "source": [
    "from learntools.core import binder; binder.bind(globals())\n",
    "from learntools.python.ex1 import *\n",
    "print(\"Setup complete! You're ready to start question 0.\")"
   ]
  },
  {
   "cell_type": "markdown",
   "id": "d107df54",
   "metadata": {
    "papermill": {
     "duration": 0.006852,
     "end_time": "2022-08-11T16:35:52.448904",
     "exception": false,
     "start_time": "2022-08-11T16:35:52.442052",
     "status": "completed"
    },
    "tags": []
   },
   "source": [
    "# 0.\n",
    "\n",
    "*This is a silly question intended as an introduction to the format we use for hands-on exercises throughout all Kaggle courses.*\n",
    "\n",
    "**What is your favorite color? **\n",
    "\n",
    "To complete this question, create a variable called `color` in the cell below with an appropriate value. The function call `q0.check()` (which we've already provided in the cell below) will check your answer."
   ]
  },
  {
   "cell_type": "code",
   "execution_count": 3,
   "id": "1a3ab40e",
   "metadata": {
    "execution": {
     "iopub.execute_input": "2022-08-11T16:35:52.465453Z",
     "iopub.status.busy": "2022-08-11T16:35:52.464493Z",
     "iopub.status.idle": "2022-08-11T16:35:52.478268Z",
     "shell.execute_reply": "2022-08-11T16:35:52.476998Z"
    },
    "papermill": {
     "duration": 0.024738,
     "end_time": "2022-08-11T16:35:52.480859",
     "exception": false,
     "start_time": "2022-08-11T16:35:52.456121",
     "status": "completed"
    },
    "tags": []
   },
   "outputs": [
    {
     "data": {
      "application/javascript": [
       "parent.postMessage({\"jupyterEvent\": \"custom.exercise_interaction\", \"data\": {\"outcomeType\": 1, \"valueTowardsCompletion\": 0.25, \"interactionType\": 1, \"questionType\": 2, \"questionId\": \"0_ExerciseFormatTutorial\", \"learnToolsVersion\": \"0.3.4\", \"failureMessage\": \"\", \"exceptionClass\": \"\", \"trace\": \"\"}}, \"*\")"
      ],
      "text/plain": [
       "<IPython.core.display.Javascript object>"
      ]
     },
     "metadata": {},
     "output_type": "display_data"
    },
    {
     "data": {
      "text/markdown": [
       "<span style=\"color:#33cc33\">Correct:</span> What?! You got it right without needing a hint or anything? Drats. Well hey, you should still continue to the next step to get some practice asking for a hint and checking solutions. (Even though you obviously don't need any help here.)"
      ],
      "text/plain": [
       "Correct: What?! You got it right without needing a hint or anything? Drats. Well hey, you should still continue to the next step to get some practice asking for a hint and checking solutions. (Even though you obviously don't need any help here.)"
      ]
     },
     "metadata": {},
     "output_type": "display_data"
    }
   ],
   "source": [
    "# create a variable called color with an appropriate value on the line below\n",
    "# (Remember, strings in Python must be enclosed in 'single' or \"double\" quotes)\n",
    "color = 'blue'\n",
    "# Check your answer\n",
    "q0.check()"
   ]
  },
  {
   "cell_type": "markdown",
   "id": "fbde4281",
   "metadata": {
    "papermill": {
     "duration": 0.006905,
     "end_time": "2022-08-11T16:35:52.495016",
     "exception": false,
     "start_time": "2022-08-11T16:35:52.488111",
     "status": "completed"
    },
    "tags": []
   },
   "source": [
    "Didn't get the right answer? How do you not even know your own favorite color?!\n",
    "\n",
    "Delete the `#` in the line below to make one of the lines run. You can choose between getting a hint or the full answer by choosing which line to remove the `#` from. \n",
    "\n",
    "Removing the `#` is called uncommenting, because it changes that line from a \"comment\" which Python doesn't run to code, which Python does run."
   ]
  },
  {
   "cell_type": "code",
   "execution_count": 4,
   "id": "1258b2ff",
   "metadata": {
    "execution": {
     "iopub.execute_input": "2022-08-11T16:35:52.511249Z",
     "iopub.status.busy": "2022-08-11T16:35:52.510840Z",
     "iopub.status.idle": "2022-08-11T16:35:52.521677Z",
     "shell.execute_reply": "2022-08-11T16:35:52.520901Z"
    },
    "papermill": {
     "duration": 0.021812,
     "end_time": "2022-08-11T16:35:52.524067",
     "exception": false,
     "start_time": "2022-08-11T16:35:52.502255",
     "status": "completed"
    },
    "tags": []
   },
   "outputs": [
    {
     "data": {
      "application/javascript": [
       "parent.postMessage({\"jupyterEvent\": \"custom.exercise_interaction\", \"data\": {\"interactionType\": 2, \"questionType\": 2, \"questionId\": \"0_ExerciseFormatTutorial\", \"learnToolsVersion\": \"0.3.4\", \"valueTowardsCompletion\": 0.0, \"failureMessage\": \"\", \"exceptionClass\": \"\", \"trace\": \"\", \"outcomeType\": 4}}, \"*\")"
      ],
      "text/plain": [
       "<IPython.core.display.Javascript object>"
      ]
     },
     "metadata": {},
     "output_type": "display_data"
    },
    {
     "data": {
      "text/markdown": [
       "<span style=\"color:#3366cc\">Hint:</span> Your favorite color rhymes with *glue*."
      ],
      "text/plain": [
       "Hint: Your favorite color rhymes with *glue*."
      ]
     },
     "metadata": {},
     "output_type": "display_data"
    },
    {
     "data": {
      "application/javascript": [
       "parent.postMessage({\"jupyterEvent\": \"custom.exercise_interaction\", \"data\": {\"interactionType\": 3, \"questionType\": 2, \"questionId\": \"0_ExerciseFormatTutorial\", \"learnToolsVersion\": \"0.3.4\", \"valueTowardsCompletion\": 0.0, \"failureMessage\": \"\", \"exceptionClass\": \"\", \"trace\": \"\", \"outcomeType\": 4}}, \"*\")"
      ],
      "text/plain": [
       "<IPython.core.display.Javascript object>"
      ]
     },
     "metadata": {},
     "output_type": "display_data"
    },
    {
     "data": {
      "text/markdown": [
       "<span style=\"color:#33cc99\">Solution:</span> \n",
       "```python\n",
       "color = \"blue\"\n",
       "```"
      ],
      "text/plain": [
       "Solution: \n",
       "```python\n",
       "color = \"blue\"\n",
       "```"
      ]
     },
     "metadata": {},
     "output_type": "display_data"
    }
   ],
   "source": [
    "q0.hint()\n",
    "q0.solution()"
   ]
  },
  {
   "cell_type": "markdown",
   "id": "bec978ed",
   "metadata": {
    "papermill": {
     "duration": 0.008545,
     "end_time": "2022-08-11T16:35:52.540371",
     "exception": false,
     "start_time": "2022-08-11T16:35:52.531826",
     "status": "completed"
    },
    "tags": []
   },
   "source": [
    "The upcoming questions work the same way. The only thing that will change are the question numbers. For the next question, you'll call `q1.check()`, `q1.hint()`, `q1.solution()`, for question 2, you'll call `q2.check()`, and so on."
   ]
  },
  {
   "cell_type": "markdown",
   "id": "b5142d06",
   "metadata": {
    "papermill": {
     "duration": 0.007543,
     "end_time": "2022-08-11T16:35:52.555824",
     "exception": false,
     "start_time": "2022-08-11T16:35:52.548281",
     "status": "completed"
    },
    "tags": []
   },
   "source": [
    "<hr/>\n",
    "\n",
    "# 1.\n",
    "\n",
    "Complete the code below. In case it's helpful, here is the table of available arithmetic operations:\n",
    "\n",
    "\n",
    "\n",
    "| Operator     | Name           | Description                                            |\n",
    "|--------------|----------------|--------------------------------------------------------|\n",
    "| ``a + b``    | Addition       | Sum of ``a`` and ``b``                                 |\n",
    "| ``a - b``    | Subtraction    | Difference of ``a`` and ``b``                          |\n",
    "| ``a * b``    | Multiplication | Product of ``a`` and ``b``                             |\n",
    "| ``a / b``    | True division  | Quotient of ``a`` and ``b``                            |\n",
    "| ``a // b``   | Floor division | Quotient of ``a`` and ``b``, removing fractional parts |\n",
    "| ``a % b``    | Modulus        | Integer remainder after division of ``a`` by ``b``     |\n",
    "| ``a ** b``   | Exponentiation | ``a`` raised to the power of ``b``                     |\n",
    "| ``-a``       | Negation       | The negative of ``a``                                  |\n",
    "\n",
    "<span style=\"display:none\"></span>\n"
   ]
  },
  {
   "cell_type": "code",
   "execution_count": 5,
   "id": "bba92213",
   "metadata": {
    "execution": {
     "iopub.execute_input": "2022-08-11T16:35:52.573624Z",
     "iopub.status.busy": "2022-08-11T16:35:52.573161Z",
     "iopub.status.idle": "2022-08-11T16:35:52.581740Z",
     "shell.execute_reply": "2022-08-11T16:35:52.580844Z"
    },
    "papermill": {
     "duration": 0.020265,
     "end_time": "2022-08-11T16:35:52.583958",
     "exception": false,
     "start_time": "2022-08-11T16:35:52.563693",
     "status": "completed"
    },
    "tags": []
   },
   "outputs": [
    {
     "data": {
      "application/javascript": [
       "parent.postMessage({\"jupyterEvent\": \"custom.exercise_interaction\", \"data\": {\"outcomeType\": 1, \"valueTowardsCompletion\": 0.25, \"interactionType\": 1, \"questionType\": 1, \"questionId\": \"1_CircleArea\", \"learnToolsVersion\": \"0.3.4\", \"failureMessage\": \"\", \"exceptionClass\": \"\", \"trace\": \"\"}}, \"*\")"
      ],
      "text/plain": [
       "<IPython.core.display.Javascript object>"
      ]
     },
     "metadata": {},
     "output_type": "display_data"
    },
    {
     "data": {
      "text/markdown": [
       "<span style=\"color:#33cc33\">Correct</span>"
      ],
      "text/plain": [
       "Correct"
      ]
     },
     "metadata": {},
     "output_type": "display_data"
    }
   ],
   "source": [
    "pi = 3.14159 # approximate\n",
    "diameter = 3\n",
    "\n",
    "# Create a variable called 'radius' equal to half the diameter\n",
    "radius = diameter / 2\n",
    "\n",
    "# Create a variable called 'area', using the formula for the area of a circle: pi times the radius squared\n",
    "area = pi * radius ** 2\n",
    "\n",
    "# Check your answer\n",
    "q1.check()"
   ]
  },
  {
   "cell_type": "code",
   "execution_count": 6,
   "id": "39e96d50",
   "metadata": {
    "execution": {
     "iopub.execute_input": "2022-08-11T16:35:52.601907Z",
     "iopub.status.busy": "2022-08-11T16:35:52.601433Z",
     "iopub.status.idle": "2022-08-11T16:35:52.614582Z",
     "shell.execute_reply": "2022-08-11T16:35:52.612660Z"
    },
    "papermill": {
     "duration": 0.025026,
     "end_time": "2022-08-11T16:35:52.616960",
     "exception": false,
     "start_time": "2022-08-11T16:35:52.591934",
     "status": "completed"
    },
    "tags": []
   },
   "outputs": [
    {
     "data": {
      "application/javascript": [
       "parent.postMessage({\"jupyterEvent\": \"custom.exercise_interaction\", \"data\": {\"interactionType\": 2, \"questionType\": 1, \"questionId\": \"1_CircleArea\", \"learnToolsVersion\": \"0.3.4\", \"valueTowardsCompletion\": 0.0, \"failureMessage\": \"\", \"exceptionClass\": \"\", \"trace\": \"\", \"outcomeType\": 4}}, \"*\")"
      ],
      "text/plain": [
       "<IPython.core.display.Javascript object>"
      ]
     },
     "metadata": {},
     "output_type": "display_data"
    },
    {
     "data": {
      "text/markdown": [
       "<span style=\"color:#3366cc\">Hint:</span> The syntax to raise a to the b'th power is `a ** b`"
      ],
      "text/plain": [
       "Hint: The syntax to raise a to the b'th power is `a ** b`"
      ]
     },
     "metadata": {},
     "output_type": "display_data"
    },
    {
     "data": {
      "application/javascript": [
       "parent.postMessage({\"jupyterEvent\": \"custom.exercise_interaction\", \"data\": {\"interactionType\": 3, \"questionType\": 1, \"questionId\": \"1_CircleArea\", \"learnToolsVersion\": \"0.3.4\", \"valueTowardsCompletion\": 0.0, \"failureMessage\": \"\", \"exceptionClass\": \"\", \"trace\": \"\", \"outcomeType\": 4}}, \"*\")"
      ],
      "text/plain": [
       "<IPython.core.display.Javascript object>"
      ]
     },
     "metadata": {},
     "output_type": "display_data"
    },
    {
     "data": {
      "text/markdown": [
       "<span style=\"color:#33cc99\">Solution:</span> \n",
       "```python\n",
       "radius = diameter / 2\n",
       "area = pi * radius ** 2\n",
       "```"
      ],
      "text/plain": [
       "Solution: \n",
       "```python\n",
       "radius = diameter / 2\n",
       "area = pi * radius ** 2\n",
       "```"
      ]
     },
     "metadata": {},
     "output_type": "display_data"
    }
   ],
   "source": [
    "# Uncomment and run the lines below if you need help.\n",
    "q1.hint()\n",
    "q1.solution()"
   ]
  },
  {
   "cell_type": "markdown",
   "id": "20906597",
   "metadata": {
    "papermill": {
     "duration": 0.008291,
     "end_time": "2022-08-11T16:35:52.633895",
     "exception": false,
     "start_time": "2022-08-11T16:35:52.625604",
     "status": "completed"
    },
    "tags": []
   },
   "source": [
    "<hr/>\n",
    "\n",
    "# 2.\n",
    "\n",
    "Add code to the following cell to swap variables `a` and `b` (so that `a` refers to the object previously referred to by `b` and vice versa)."
   ]
  },
  {
   "cell_type": "code",
   "execution_count": 7,
   "id": "d72c9f9c",
   "metadata": {
    "execution": {
     "iopub.execute_input": "2022-08-11T16:35:52.652754Z",
     "iopub.status.busy": "2022-08-11T16:35:52.652090Z",
     "iopub.status.idle": "2022-08-11T16:35:52.660320Z",
     "shell.execute_reply": "2022-08-11T16:35:52.659576Z"
    },
    "papermill": {
     "duration": 0.020343,
     "end_time": "2022-08-11T16:35:52.662801",
     "exception": false,
     "start_time": "2022-08-11T16:35:52.642458",
     "status": "completed"
    },
    "tags": []
   },
   "outputs": [
    {
     "data": {
      "application/javascript": [
       "parent.postMessage({\"jupyterEvent\": \"custom.exercise_interaction\", \"data\": {\"outcomeType\": 1, \"valueTowardsCompletion\": 0.25, \"interactionType\": 1, \"questionType\": 2, \"questionId\": \"2_VariableSwap\", \"learnToolsVersion\": \"0.3.4\", \"failureMessage\": \"\", \"exceptionClass\": \"\", \"trace\": \"\"}}, \"*\")"
      ],
      "text/plain": [
       "<IPython.core.display.Javascript object>"
      ]
     },
     "metadata": {},
     "output_type": "display_data"
    },
    {
     "data": {
      "text/markdown": [
       "<span style=\"color:#33cc33\">Correct:</span> \n",
       "\n",
       "The most straightforward solution is to use a third variable to temporarily store one of the old values. e.g.:\n",
       "\n",
       "    tmp = a\n",
       "    a = b\n",
       "    b = tmp\n",
       "\n",
       "If you've read lots of Python code, you might have seen the following trick to swap two variables in one line:\n",
       "\n",
       "    a, b = b, a\n",
       "\n",
       "We'll demystify this bit of Python magic later when we talk about *tuples*."
      ],
      "text/plain": [
       "Correct: \n",
       "\n",
       "The most straightforward solution is to use a third variable to temporarily store one of the old values. e.g.:\n",
       "\n",
       "    tmp = a\n",
       "    a = b\n",
       "    b = tmp\n",
       "\n",
       "If you've read lots of Python code, you might have seen the following trick to swap two variables in one line:\n",
       "\n",
       "    a, b = b, a\n",
       "\n",
       "We'll demystify this bit of Python magic later when we talk about *tuples*."
      ]
     },
     "metadata": {},
     "output_type": "display_data"
    }
   ],
   "source": [
    "########### Setup code - don't touch this part ######################\n",
    "# If you're curious, these are examples of lists. We'll talk about \n",
    "# them in depth a few lessons from now. For now, just know that they're\n",
    "# yet another type of Python object, like int or float.\n",
    "a = [1, 2, 3]\n",
    "b = [3, 2, 1]\n",
    "q2.store_original_ids()\n",
    "######################################################################\n",
    "\n",
    "# Your code goes here. Swap the values to which a and b refer.\n",
    "# If you get stuck, you can always uncomment one or both of the lines in\n",
    "# the next cell for a hint, or to peek at the solution.\n",
    "temp = a\n",
    "a = b\n",
    "b = temp\n",
    "######################################################################\n",
    "\n",
    "# Check your answer\n",
    "q2.check()"
   ]
  },
  {
   "cell_type": "code",
   "execution_count": 8,
   "id": "01d35f1a",
   "metadata": {
    "execution": {
     "iopub.execute_input": "2022-08-11T16:35:52.683355Z",
     "iopub.status.busy": "2022-08-11T16:35:52.682718Z",
     "iopub.status.idle": "2022-08-11T16:35:52.686918Z",
     "shell.execute_reply": "2022-08-11T16:35:52.686038Z"
    },
    "papermill": {
     "duration": 0.017554,
     "end_time": "2022-08-11T16:35:52.689612",
     "exception": false,
     "start_time": "2022-08-11T16:35:52.672058",
     "status": "completed"
    },
    "tags": []
   },
   "outputs": [],
   "source": [
    "#q2.hint()"
   ]
  },
  {
   "cell_type": "code",
   "execution_count": 9,
   "id": "403f61c2",
   "metadata": {
    "execution": {
     "iopub.execute_input": "2022-08-11T16:35:52.709847Z",
     "iopub.status.busy": "2022-08-11T16:35:52.709237Z",
     "iopub.status.idle": "2022-08-11T16:35:52.713808Z",
     "shell.execute_reply": "2022-08-11T16:35:52.712718Z"
    },
    "papermill": {
     "duration": 0.017938,
     "end_time": "2022-08-11T16:35:52.716523",
     "exception": false,
     "start_time": "2022-08-11T16:35:52.698585",
     "status": "completed"
    },
    "tags": []
   },
   "outputs": [],
   "source": [
    "#q2.solution()"
   ]
  },
  {
   "cell_type": "markdown",
   "id": "8a8c8d15",
   "metadata": {
    "papermill": {
     "duration": 0.00844,
     "end_time": "2022-08-11T16:35:52.734096",
     "exception": false,
     "start_time": "2022-08-11T16:35:52.725656",
     "status": "completed"
    },
    "tags": []
   },
   "source": [
    "<hr/>\n",
    "\n",
    "# 3a.\n",
    "\n",
    "Add parentheses to the following expression so that it evaluates to 1."
   ]
  },
  {
   "cell_type": "code",
   "execution_count": 10,
   "id": "99d51ff8",
   "metadata": {
    "execution": {
     "iopub.execute_input": "2022-08-11T16:35:52.754007Z",
     "iopub.status.busy": "2022-08-11T16:35:52.753369Z",
     "iopub.status.idle": "2022-08-11T16:35:52.758914Z",
     "shell.execute_reply": "2022-08-11T16:35:52.757999Z"
    },
    "papermill": {
     "duration": 0.018259,
     "end_time": "2022-08-11T16:35:52.761060",
     "exception": false,
     "start_time": "2022-08-11T16:35:52.742801",
     "status": "completed"
    },
    "tags": []
   },
   "outputs": [
    {
     "data": {
      "text/plain": [
       "1"
      ]
     },
     "execution_count": 10,
     "metadata": {},
     "output_type": "execute_result"
    }
   ],
   "source": [
    "(5 - 3) // 2"
   ]
  },
  {
   "cell_type": "code",
   "execution_count": 11,
   "id": "567635af",
   "metadata": {
    "execution": {
     "iopub.execute_input": "2022-08-11T16:35:52.781283Z",
     "iopub.status.busy": "2022-08-11T16:35:52.780665Z",
     "iopub.status.idle": "2022-08-11T16:35:52.784535Z",
     "shell.execute_reply": "2022-08-11T16:35:52.783640Z"
    },
    "papermill": {
     "duration": 0.016801,
     "end_time": "2022-08-11T16:35:52.786862",
     "exception": false,
     "start_time": "2022-08-11T16:35:52.770061",
     "status": "completed"
    },
    "tags": []
   },
   "outputs": [],
   "source": [
    "#q3.a.hint()"
   ]
  },
  {
   "cell_type": "code",
   "execution_count": 12,
   "id": "4b8ef3d8",
   "metadata": {
    "execution": {
     "iopub.execute_input": "2022-08-11T16:35:52.806908Z",
     "iopub.status.busy": "2022-08-11T16:35:52.806460Z",
     "iopub.status.idle": "2022-08-11T16:35:52.816175Z",
     "shell.execute_reply": "2022-08-11T16:35:52.814925Z"
    },
    "papermill": {
     "duration": 0.023135,
     "end_time": "2022-08-11T16:35:52.818983",
     "exception": false,
     "start_time": "2022-08-11T16:35:52.795848",
     "status": "completed"
    },
    "tags": []
   },
   "outputs": [
    {
     "data": {
      "application/javascript": [
       "parent.postMessage({\"jupyterEvent\": \"custom.exercise_interaction\", \"data\": {\"interactionType\": 3, \"questionType\": 4, \"questionId\": \"3.1_ArithmeticParensEasy\", \"learnToolsVersion\": \"0.3.4\", \"valueTowardsCompletion\": 0.0, \"failureMessage\": \"\", \"exceptionClass\": \"\", \"trace\": \"\", \"outcomeType\": 4}}, \"*\")"
      ],
      "text/plain": [
       "<IPython.core.display.Javascript object>"
      ]
     },
     "metadata": {},
     "output_type": "display_data"
    },
    {
     "data": {
      "text/markdown": [
       "<span style=\"color:#33cc99\">Solution:</span> \n",
       "```python\n",
       "(5 - 3) // 2\n",
       "```"
      ],
      "text/plain": [
       "Solution: \n",
       "```python\n",
       "(5 - 3) // 2\n",
       "```"
      ]
     },
     "metadata": {},
     "output_type": "display_data"
    }
   ],
   "source": [
    "# Check your answer (Run this code cell to receive credit!)\n",
    "q3.a.solution()"
   ]
  },
  {
   "cell_type": "markdown",
   "id": "938c1608",
   "metadata": {
    "papermill": {
     "duration": 0.008809,
     "end_time": "2022-08-11T16:35:52.836856",
     "exception": false,
     "start_time": "2022-08-11T16:35:52.828047",
     "status": "completed"
    },
    "tags": []
   },
   "source": [
    "# 3b.  <span title=\"A bit spicy\" style=\"color: darkgreen \">🌶️</span>\n",
    "\n",
    "<small>Questions, like this one, marked a spicy pepper are a bit harder.</small>\n",
    "\n",
    "Add parentheses to the following expression so that it evaluates to 0."
   ]
  },
  {
   "cell_type": "code",
   "execution_count": 13,
   "id": "76f757b2",
   "metadata": {
    "execution": {
     "iopub.execute_input": "2022-08-11T16:35:52.857735Z",
     "iopub.status.busy": "2022-08-11T16:35:52.856959Z",
     "iopub.status.idle": "2022-08-11T16:35:52.863853Z",
     "shell.execute_reply": "2022-08-11T16:35:52.863035Z"
    },
    "papermill": {
     "duration": 0.019481,
     "end_time": "2022-08-11T16:35:52.865916",
     "exception": false,
     "start_time": "2022-08-11T16:35:52.846435",
     "status": "completed"
    },
    "tags": []
   },
   "outputs": [
    {
     "data": {
      "text/plain": [
       "0"
      ]
     },
     "execution_count": 13,
     "metadata": {},
     "output_type": "execute_result"
    }
   ],
   "source": [
    "(8 - 3) * ( 2 - (1 + 1))"
   ]
  },
  {
   "cell_type": "code",
   "execution_count": 14,
   "id": "bb5e5d9c",
   "metadata": {
    "execution": {
     "iopub.execute_input": "2022-08-11T16:35:52.886096Z",
     "iopub.status.busy": "2022-08-11T16:35:52.885674Z",
     "iopub.status.idle": "2022-08-11T16:35:52.890859Z",
     "shell.execute_reply": "2022-08-11T16:35:52.889560Z"
    },
    "papermill": {
     "duration": 0.017977,
     "end_time": "2022-08-11T16:35:52.893195",
     "exception": false,
     "start_time": "2022-08-11T16:35:52.875218",
     "status": "completed"
    },
    "tags": []
   },
   "outputs": [],
   "source": [
    "#q3.b.hint()"
   ]
  },
  {
   "cell_type": "code",
   "execution_count": 15,
   "id": "0e625a36",
   "metadata": {
    "execution": {
     "iopub.execute_input": "2022-08-11T16:35:52.915396Z",
     "iopub.status.busy": "2022-08-11T16:35:52.914754Z",
     "iopub.status.idle": "2022-08-11T16:35:52.919922Z",
     "shell.execute_reply": "2022-08-11T16:35:52.918862Z"
    },
    "papermill": {
     "duration": 0.019476,
     "end_time": "2022-08-11T16:35:52.922378",
     "exception": false,
     "start_time": "2022-08-11T16:35:52.902902",
     "status": "completed"
    },
    "tags": []
   },
   "outputs": [],
   "source": [
    "# Check your answer (Run this code cell to receive credit!)\n",
    "#q3.b.solution()"
   ]
  },
  {
   "cell_type": "markdown",
   "id": "61766364",
   "metadata": {
    "papermill": {
     "duration": 0.008935,
     "end_time": "2022-08-11T16:35:52.940681",
     "exception": false,
     "start_time": "2022-08-11T16:35:52.931746",
     "status": "completed"
    },
    "tags": []
   },
   "source": [
    "<hr/>\n",
    "\n",
    "# 4. \n",
    "Alice, Bob and Carol have agreed to pool their Halloween candy and split it evenly among themselves.\n",
    "For the sake of their friendship, any candies left over will be smashed. For example, if they collectively\n",
    "bring home 91 candies, they'll take 30 each and smash 1.\n",
    "\n",
    "Write an arithmetic expression below to calculate how many candies they must smash for a given haul."
   ]
  },
  {
   "cell_type": "markdown",
   "id": "01dc675f",
   "metadata": {
    "papermill": {
     "duration": 0.008848,
     "end_time": "2022-08-11T16:35:52.958818",
     "exception": false,
     "start_time": "2022-08-11T16:35:52.949970",
     "status": "completed"
    },
    "tags": []
   },
   "source": []
  },
  {
   "cell_type": "code",
   "execution_count": 16,
   "id": "102924e4",
   "metadata": {
    "execution": {
     "iopub.execute_input": "2022-08-11T16:35:52.979697Z",
     "iopub.status.busy": "2022-08-11T16:35:52.979287Z",
     "iopub.status.idle": "2022-08-11T16:35:52.988302Z",
     "shell.execute_reply": "2022-08-11T16:35:52.987368Z"
    },
    "papermill": {
     "duration": 0.022068,
     "end_time": "2022-08-11T16:35:52.990407",
     "exception": false,
     "start_time": "2022-08-11T16:35:52.968339",
     "status": "completed"
    },
    "tags": []
   },
   "outputs": [
    {
     "data": {
      "application/javascript": [
       "parent.postMessage({\"jupyterEvent\": \"custom.exercise_interaction\", \"data\": {\"outcomeType\": 1, \"valueTowardsCompletion\": 0.25, \"interactionType\": 1, \"questionType\": 1, \"questionId\": \"4_CandySplitting\", \"learnToolsVersion\": \"0.3.4\", \"failureMessage\": \"\", \"exceptionClass\": \"\", \"trace\": \"\"}}, \"*\")"
      ],
      "text/plain": [
       "<IPython.core.display.Javascript object>"
      ]
     },
     "metadata": {},
     "output_type": "display_data"
    },
    {
     "data": {
      "text/markdown": [
       "<span style=\"color:#33cc33\">Correct</span>"
      ],
      "text/plain": [
       "Correct"
      ]
     },
     "metadata": {},
     "output_type": "display_data"
    }
   ],
   "source": [
    "# Variables representing the number of candies collected by alice, bob, and carol\n",
    "alice_candies = 121\n",
    "bob_candies = 77\n",
    "carol_candies = 109\n",
    "\n",
    "# Your code goes here! Replace the right-hand side of this assignment with an expression\n",
    "# involving alice_candies, bob_candies, and carol_candies\n",
    "to_smash = (alice_candies + bob_candies + carol_candies) % 3\n",
    "\n",
    "# Check your answer\n",
    "q4.check()"
   ]
  },
  {
   "cell_type": "code",
   "execution_count": 17,
   "id": "78d5fe0f",
   "metadata": {
    "execution": {
     "iopub.execute_input": "2022-08-11T16:35:53.011890Z",
     "iopub.status.busy": "2022-08-11T16:35:53.010658Z",
     "iopub.status.idle": "2022-08-11T16:35:53.015141Z",
     "shell.execute_reply": "2022-08-11T16:35:53.014246Z"
    },
    "papermill": {
     "duration": 0.017383,
     "end_time": "2022-08-11T16:35:53.017273",
     "exception": false,
     "start_time": "2022-08-11T16:35:52.999890",
     "status": "completed"
    },
    "tags": []
   },
   "outputs": [],
   "source": [
    "#q4.hint()\n",
    "#q4.solution()"
   ]
  },
  {
   "cell_type": "markdown",
   "id": "0ad14bcd",
   "metadata": {
    "papermill": {
     "duration": 0.009188,
     "end_time": "2022-08-11T16:35:53.035971",
     "exception": false,
     "start_time": "2022-08-11T16:35:53.026783",
     "status": "completed"
    },
    "tags": []
   },
   "source": [
    "# Keep Going\n",
    "\n",
    "Next up, you'll **[learn to write new functions and understand functions others write](https://www.kaggle.com/colinmorris/functions-and-getting-help)**. This will make you at least 10 times more productive as a Python programmer. "
   ]
  },
  {
   "cell_type": "markdown",
   "id": "682d62ad",
   "metadata": {
    "papermill": {
     "duration": 0.009135,
     "end_time": "2022-08-11T16:35:53.054535",
     "exception": false,
     "start_time": "2022-08-11T16:35:53.045400",
     "status": "completed"
    },
    "tags": []
   },
   "source": [
    "---\n",
    "\n",
    "\n",
    "\n",
    "\n",
    "*Have questions or comments? Visit the [course discussion forum](https://www.kaggle.com/learn/python/discussion) to chat with other learners.*"
   ]
  }
 ],
 "metadata": {
  "kernelspec": {
   "display_name": "Python 3",
   "language": "python",
   "name": "python3"
  },
  "language_info": {
   "codemirror_mode": {
    "name": "ipython",
    "version": 3
   },
   "file_extension": ".py",
   "mimetype": "text/x-python",
   "name": "python",
   "nbconvert_exporter": "python",
   "pygments_lexer": "ipython3",
   "version": "3.7.12"
  },
  "papermill": {
   "default_parameters": {},
   "duration": 11.30275,
   "end_time": "2022-08-11T16:35:53.786915",
   "environment_variables": {},
   "exception": null,
   "input_path": "__notebook__.ipynb",
   "output_path": "__notebook__.ipynb",
   "parameters": {},
   "start_time": "2022-08-11T16:35:42.484165",
   "version": "2.3.4"
  }
 },
 "nbformat": 4,
 "nbformat_minor": 5
}
